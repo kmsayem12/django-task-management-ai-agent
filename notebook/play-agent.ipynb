{
 "cells": [
  {
   "cell_type": "code",
   "execution_count": 1,
   "id": "21d09225",
   "metadata": {},
   "outputs": [
    {
     "name": "stdout",
     "output_type": "stream",
     "text": [
      "Added /Users/sayem/project/practice/django-ai-agent/src to sys.path\n"
     ]
    }
   ],
   "source": [
    "import setup  # notebooks/setup.py\n",
    "setup.init()\n",
    "\n",
    "# import sys\n",
    "# print(sys.executable)"
   ]
  },
  {
   "cell_type": "code",
   "execution_count": 2,
   "id": "9d4bf487",
   "metadata": {},
   "outputs": [],
   "source": [
    "from langgraph.checkpoint.memory import InMemorySaver #Radis Memory  Saver\n",
    "from uuid import uuid4\n",
    "from ai_agent import get_agent\n",
    "\n",
    "checkpointer = InMemorySaver()"
   ]
  },
  {
   "cell_type": "code",
   "execution_count": 3,
   "id": "e7e3646d",
   "metadata": {},
   "outputs": [],
   "source": [
    "agent = get_agent(checkpointer)"
   ]
  },
  {
   "cell_type": "code",
   "execution_count": 6,
   "id": "63006b43",
   "metadata": {},
   "outputs": [],
   "source": [
    "config={\"configurable\": { \"created_by\": 1, \"thread_id\": str(uuid4())}}\n",
    "response = agent.invoke( {\"messages\": [{\"role\": \"user\", \"content\": \"can you create the task for implementing a new feature for the about page design. this task description should be 'In the about page, add a new section for the about our company.' and priority should be low\"}]},config)"
   ]
  },
  {
   "cell_type": "code",
   "execution_count": 4,
   "id": "3ca80ab3",
   "metadata": {},
   "outputs": [],
   "source": [
    "\n",
    "\n",
    "config={\"configurable\": {\"created_by\": 1,\"thread_id\": str(uuid4())}}\n",
    "response = agent.invoke( {\"messages\": [{\"role\": \"user\", \"content\": \"search the task title is 'Implement new feature' and limit is 5\"}]},config)\n",
    "# response = agent.invoke( {\"messages\": [{\"role\": \"user\", \"content\": \"update the task title is 'Implement new feature for the about page design' and status is done\"}]},config)\n",
    "# response = agent.invoke( {\"messages\": [{\"role\": \"user\", \"content\": \"delete the task title is 'My Task 2'\"}]},config)\n"
   ]
  },
  {
   "cell_type": "code",
   "execution_count": 5,
   "id": "c98aa407",
   "metadata": {},
   "outputs": [
    {
     "name": "stdout",
     "output_type": "stream",
     "text": [
      "response {'messages': [HumanMessage(content=\"search the task title is 'Implement new feature' and limit is 5\", additional_kwargs={}, response_metadata={}, id='4c9f433c-e859-457e-87bf-007bba18f60c'), AIMessage(content='', additional_kwargs={'function_call': {'name': 'search_tasks', 'arguments': '{\"limit\": 5.0, \"query\": \"Implement new feature\"}'}}, response_metadata={'prompt_feedback': {'block_reason': 0, 'safety_ratings': []}, 'finish_reason': 'STOP', 'model_name': 'gemini-1.5-flash', 'safety_ratings': []}, id='run--e030487f-2517-4be3-843e-6398d08f7691-0', tool_calls=[{'name': 'search_tasks', 'args': {'limit': 5.0, 'query': 'Implement new feature'}, 'id': '74e9bc27-2295-445a-865d-4b3095bf21ec', 'type': 'tool_call'}], usage_metadata={'input_tokens': 371, 'output_tokens': 9, 'total_tokens': 380, 'input_token_details': {'cache_read': 0}}), ToolMessage(content='[{\"id\": 15, \"title\": \"Implement new feature for the about page design\", \"description\": \"In the about page, add a new section for the about our company.\", \"status\": \"done\", \"priority\": \"low\", \"due_date\": null, \"assigned_to\": null, \"assigned_to_username\": null, \"created_by\": 1, \"created_by_username\": \"sayem\", \"created_at\": \"2025-06-11T19:41:50.802931Z\", \"updated_at\": \"2025-06-11T20:38:38.823765Z\"}, {\"id\": 14, \"title\": \"Implement new feature for home page design\", \"description\": \"In the home page, add a new section for the latest news.\", \"status\": \"todo\", \"priority\": \"low\", \"due_date\": \"2025-12-31\", \"assigned_to\": 3, \"assigned_to_username\": \"km\", \"created_by\": 1, \"created_by_username\": \"sayem\", \"created_at\": \"2025-06-11T19:08:35.136935Z\", \"updated_at\": \"2025-06-11T19:08:35.136968Z\"}]', name='search_tasks', id='78335ef0-2dc1-478d-860d-2fae24309a4f', tool_call_id='74e9bc27-2295-445a-865d-4b3095bf21ec'), AIMessage(content=\"OK. I found 2 tasks with the title 'Implement new feature' in the search results.\", additional_kwargs={}, response_metadata={'prompt_feedback': {'block_reason': 0, 'safety_ratings': []}, 'finish_reason': 'STOP', 'model_name': 'gemini-1.5-flash', 'safety_ratings': []}, id='run--efed1828-f750-49ac-8d66-2be552d85e3c-0', usage_metadata={'input_tokens': 623, 'output_tokens': 20, 'total_tokens': 643, 'input_token_details': {'cache_read': 0}})]}\n",
      "0 search the task title is 'Implement new feature' and limit is 5\n",
      "2 [{\"id\": 15, \"title\": \"Implement new feature for the about page design\", \"description\": \"In the about page, add a new section for the about our company.\", \"status\": \"done\", \"priority\": \"low\", \"due_date\": null, \"assigned_to\": null, \"assigned_to_username\": null, \"created_by\": 1, \"created_by_username\": \"sayem\", \"created_at\": \"2025-06-11T19:41:50.802931Z\", \"updated_at\": \"2025-06-11T20:38:38.823765Z\"}, {\"id\": 14, \"title\": \"Implement new feature for home page design\", \"description\": \"In the home page, add a new section for the latest news.\", \"status\": \"todo\", \"priority\": \"low\", \"due_date\": \"2025-12-31\", \"assigned_to\": 3, \"assigned_to_username\": \"km\", \"created_by\": 1, \"created_by_username\": \"sayem\", \"created_at\": \"2025-06-11T19:08:35.136935Z\", \"updated_at\": \"2025-06-11T19:08:35.136968Z\"}]\n",
      "3 OK. I found 2 tasks with the title 'Implement new feature' in the search results.\n"
     ]
    }
   ],
   "source": [
    "print('response',response)\n",
    "for i, message in enumerate(response['messages']):\n",
    "    if message.content:\n",
    "        print(i,message.content)"
   ]
  },
  {
   "cell_type": "code",
   "execution_count": 18,
   "id": "a7dde77d",
   "metadata": {},
   "outputs": [
    {
     "name": "stdout",
     "output_type": "stream",
     "text": [
      "tasks <QuerySet [<Task: Implement new user profile page design>]>\n"
     ]
    }
   ],
   "source": [
    "from tasks_app.models import Task\n",
    "from django.db.models import Q\n",
    "\n",
    "created_by = 3\n",
    "query = 'Implement new'\n",
    "limit = 5\n",
    "default_lookup = {\n",
    "    'title__icontains': query,\n",
    "    'description__icontains': query,\n",
    "}\n",
    "tasks = Task.objects.filter(\n",
    "    created_by=created_by\n",
    ").filter(Q(title__icontains=query) | Q(\n",
    "    description__icontains=query)).order_by('-created_at')[:limit]\n",
    "\n",
    "print('tasks',tasks)"
   ]
  }
 ],
 "metadata": {
  "kernelspec": {
   "display_name": ".venv",
   "language": "python",
   "name": "python3"
  },
  "language_info": {
   "codemirror_mode": {
    "name": "ipython",
    "version": 3
   },
   "file_extension": ".py",
   "mimetype": "text/x-python",
   "name": "python",
   "nbconvert_exporter": "python",
   "pygments_lexer": "ipython3",
   "version": "3.12.2"
  }
 },
 "nbformat": 4,
 "nbformat_minor": 5
}
