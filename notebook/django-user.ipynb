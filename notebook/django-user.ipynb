{
 "cells": [
  {
   "cell_type": "code",
   "execution_count": 5,
   "id": "6fa17312",
   "metadata": {},
   "outputs": [
    {
     "name": "stdout",
     "output_type": "stream",
     "text": [
      "Added /Users/sayem/project/practice/django-ai-agent/src to sys.path\n"
     ]
    }
   ],
   "source": [
    "import setup  # notebooks/setup.py\n",
    "setup.init()"
   ]
  },
  {
   "cell_type": "code",
   "execution_count": null,
   "id": "feee84a7",
   "metadata": {},
   "outputs": [
    {
     "name": "stdout",
     "output_type": "stream",
     "text": [
      "sayem\n"
     ]
    }
   ],
   "source": [
    "from django.contrib.auth import get_user_model\n",
    "User = get_user_model()\n",
    "\n",
    "user = User.objects.get(username='safiya')\n",
    "print(user)"
   ]
  },
  {
   "cell_type": "code",
   "execution_count": 7,
   "id": "53c0c2b9",
   "metadata": {},
   "outputs": [
    {
     "name": "stdout",
     "output_type": "stream",
     "text": [
      "km\n"
     ]
    }
   ],
   "source": [
    "new_user = User.objects.create_user(username='km', password='12345678')\n",
    "print(new_user)"
   ]
  },
  {
   "cell_type": "code",
   "execution_count": null,
   "id": "f90b8de9",
   "metadata": {},
   "outputs": [],
   "source": [
    "help(User)"
   ]
  },
  {
   "cell_type": "code",
   "execution_count": 10,
   "id": "4b9cb350",
   "metadata": {},
   "outputs": [
    {
     "name": "stdout",
     "output_type": "stream",
     "text": [
      "My Task 2\n",
      "sayem\n"
     ]
    }
   ],
   "source": [
    "from tasks_app.models import Task\n",
    "task = Task.objects.all().first()\n",
    "print(task)\n",
    "print(task.created_by)"
   ]
  },
  {
   "cell_type": "code",
   "execution_count": 23,
   "id": "57c2d5e1",
   "metadata": {},
   "outputs": [
    {
     "data": {
      "text/plain": [
       "<Task: Implement login functionality>"
      ]
     },
     "execution_count": 23,
     "metadata": {},
     "output_type": "execute_result"
    }
   ],
   "source": [
    "Task.objects.create(title='Implement login functionality', description='login functionality', due_date='2023-08-01', assigned_to=new_user)  "
   ]
  },
  {
   "cell_type": "code",
   "execution_count": null,
   "id": "c40c51e4",
   "metadata": {},
   "outputs": [],
   "source": [
    "help(Task)"
   ]
  },
  {
   "cell_type": "code",
   "execution_count": 21,
   "id": "650976fc",
   "metadata": {},
   "outputs": [
    {
     "name": "stdout",
     "output_type": "stream",
     "text": [
      "<QuerySet [<Permission: Tasks_App | task | Can add task>, <Permission: Tasks_App | task | Can change task>, <Permission: Tasks_App | task | Can delete task>, <Permission: Tasks_App | task | Can view task>]>\n",
      "Tasks_App | task | Can add task\n",
      "<QuerySet [<Permission: Tasks_App | task | Can add task>]>\n",
      "Tasks_App | task | Can change task\n",
      "<QuerySet [<Permission: Tasks_App | task | Can add task>, <Permission: Tasks_App | task | Can change task>]>\n",
      "Tasks_App | task | Can delete task\n",
      "<QuerySet [<Permission: Tasks_App | task | Can add task>, <Permission: Tasks_App | task | Can change task>, <Permission: Tasks_App | task | Can delete task>]>\n",
      "Tasks_App | task | Can view task\n",
      "<QuerySet [<Permission: Tasks_App | task | Can add task>, <Permission: Tasks_App | task | Can change task>, <Permission: Tasks_App | task | Can delete task>, <Permission: Tasks_App | task | Can view task>]>\n"
     ]
    }
   ],
   "source": [
    "from django.contrib.auth.models import Permission\n",
    "\n",
    "permission = Permission.objects.all()\n",
    "permission = Permission.objects.filter(codename__endswith='task')\n",
    "print(permission)\n",
    "for p in permission:\n",
    "    print(p)    \n",
    "    new_user.user_permissions.add(p)\n",
    "    print(new_user.user_permissions.all())\n",
    "\n"
   ]
  },
  {
   "cell_type": "code",
   "execution_count": null,
   "id": "1608248c",
   "metadata": {},
   "outputs": [],
   "source": []
  }
 ],
 "metadata": {
  "kernelspec": {
   "display_name": ".venv",
   "language": "python",
   "name": "python3"
  },
  "language_info": {
   "codemirror_mode": {
    "name": "ipython",
    "version": 3
   },
   "file_extension": ".py",
   "mimetype": "text/x-python",
   "name": "python",
   "nbconvert_exporter": "python",
   "pygments_lexer": "ipython3",
   "version": "3.12.2"
  }
 },
 "nbformat": 4,
 "nbformat_minor": 5
}
