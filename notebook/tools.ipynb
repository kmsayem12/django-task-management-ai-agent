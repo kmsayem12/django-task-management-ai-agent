{
 "cells": [
  {
   "cell_type": "code",
   "execution_count": 2,
   "id": "ab8997a1",
   "metadata": {},
   "outputs": [
    {
     "name": "stdout",
     "output_type": "stream",
     "text": [
      "Added /Users/sayem/project/practice/django-ai-agent/src to sys.path\n"
     ]
    }
   ],
   "source": [
    "import setup  # notebooks/setup.py\n",
    "setup.init()"
   ]
  },
  {
   "cell_type": "code",
   "execution_count": null,
   "id": "253ceeac",
   "metadata": {},
   "outputs": [
    {
     "name": "stdout",
     "output_type": "stream",
     "text": [
      "get_tasks {'tags': [], 'metadata': {}, 'callbacks': None, 'recursion_limit': 25, 'configurable': {}}\n",
      "Test task id- 10\n",
      "Implement login functionality id- 11\n"
     ]
    }
   ],
   "source": [
    "from ai_agent.tools import get_tasks\n",
    "config = {\"created_by\":None}\n",
    "tasks = get_tasks.invoke(None,config)\n",
    "for task in tasks:\n",
    "    print(task.title, 'id-',task.id)"
   ]
  },
  {
   "cell_type": "code",
   "execution_count": null,
   "id": "f511fc0f",
   "metadata": {},
   "outputs": [
    {
     "data": {
      "text/plain": [
       "<Task: My Task 2>"
      ]
     },
     "execution_count": 6,
     "metadata": {},
     "output_type": "execute_result"
    }
   ],
   "source": [
    "from ai_agent.tools import delete_task\n",
    "delete_task({\"task_id\":4})"
   ]
  },
  {
   "cell_type": "code",
   "execution_count": null,
   "id": "d1cd76be",
   "metadata": {},
   "outputs": [
    {
     "name": "stdout",
     "output_type": "stream",
     "text": [
      "get_task {'tags': [], 'metadata': {'user_id': 1}, 'callbacks': None, 'recursion_limit': 25, 'configurable': {'user_id': 1}}\n",
      "My Task 2\n"
     ]
    }
   ],
   "source": [
    "from ai_agent.tools import get_task\n",
    "config = {\"user_id\":1}\n",
    "task = get_task.invoke({\"task_id\":3},config)\n",
    "print(task)\n"
   ]
  }
 ],
 "metadata": {
  "kernelspec": {
   "display_name": ".venv",
   "language": "python",
   "name": "python3"
  },
  "language_info": {
   "codemirror_mode": {
    "name": "ipython",
    "version": 3
   },
   "file_extension": ".py",
   "mimetype": "text/x-python",
   "name": "python",
   "nbconvert_exporter": "python",
   "pygments_lexer": "ipython3",
   "version": "3.12.2"
  }
 },
 "nbformat": 4,
 "nbformat_minor": 5
}
